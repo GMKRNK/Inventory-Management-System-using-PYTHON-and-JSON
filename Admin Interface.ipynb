{
 "cells": [
  {
   "cell_type": "markdown",
   "id": "8efddedb",
   "metadata": {},
   "source": [
    "## -->This program is built for the Admin Interface to make Modifications in the Inventory. The following operations are supported here:\n",
    "   ### 1.Change Quantity of any Product\n",
    "   ### 2.Change Price of any Product\n",
    "   ### 3.ADD New Products\n",
    "   ### 4.REMOVE Products from Inventory\n",
    "\n",
    "## -->Details:\n",
    "### Format of Product entries:\n",
    "   #### Product ID | Product Name | Product Price | Product Quantity\n",
    "\n",
    "## *** Here the Inventory is stored in the form of Dictionary in JSON file\n"
   ]
  },
  {
   "cell_type": "code",
   "execution_count": 2,
   "id": "e0fd1b33",
   "metadata": {},
   "outputs": [
    {
     "name": "stdout",
     "output_type": "stream",
     "text": [
      "--------CURRENT MENU-----------\n",
      "\n",
      "1 : 5 star     | 10    | 200\n",
      "2 : eclairs     | 15    | 250\n",
      "3 : milkbar     | 10    | 20\n"
     ]
    }
   ],
   "source": [
    "import json\n",
    "\n",
    "fp = open(\"Inventory File.Json\",\"w\")\n",
    "\n",
    "# creating a Initial Inventory with 3 Products using Dictionary Data Structure\n",
    "records = {1: {\"name\": \"5 star\", \"price\": 10, \"qt\": 200}, 2: {\"name\": \"eclairs\", \"price\": 15, \"qt\": 250}, 3: {\"name\": \"milkbar\", \"price\": 10, \"qt\": 20}}\n",
    "\n",
    "js = json.dumps(records) # js becomes a JSON object\n",
    "fp.write(js) # writing the Inventory into the file\n",
    "fp.close()\n",
    "\n",
    "fp = open(\"Inventory File.Json\",\"r\")\n",
    "js = fp.read()\n",
    "fp.close()\n",
    "\n",
    "records = json.loads(js) # records takes in the whole INVENTORY in the form of dictionary\n",
    "\n",
    "# Function to Display Current Menu\n",
    "def current_menu(): \n",
    "    print(\"--------CURRENT MENU-----------\\n\")\n",
    "\n",
    "    for key in records.keys():\n",
    "        print(key,\":\",records[key][\"name\"],\"    |\",records[key][\"price\"],\"   |\",records[key][\"qt\"]) # Products Displayed\n",
    "\n",
    "current_menu()"
   ]
  },
  {
   "cell_type": "code",
   "execution_count": 3,
   "id": "19142fad",
   "metadata": {},
   "outputs": [
    {
     "name": "stdout",
     "output_type": "stream",
     "text": [
      "--------CURRENT MENU-----------\n",
      "\n",
      "1 : 5 star     | 10    | 200\n",
      "2 : eclairs     | 15    | 250\n",
      "3 : milkbar     | 10    | 20\n"
     ]
    }
   ],
   "source": [
    "import json\n",
    "\n",
    "fp = open(\"Inventory File.Json\",\"r\")\n",
    "js = fp.read()\n",
    "fp.close()\n",
    "\n",
    "records = json.loads(js)\n",
    "\n",
    "current_menu()\n",
    "\n",
    "def inventory_modify(): # function to perform various MODIFICATIONS in the INVENTORY\n",
    "    print(\"\\n------Options:------\")\n",
    "    print(\"\\n1.Modify Qt\\n2.Change Price\\n3.Add New Product**\\n4.Delete a Product\\n\")\n",
    "    ch = int(input(\"Enter your Choice:\\n\"))\n",
    "    \n",
    "    match ch: # Switch module\n",
    "        case 1:\n",
    "            pr_id = str(input(\"\\nEnter Product Id:\"))\n",
    "            qtt = int(input(\"Enter Qt:\"))\n",
    "            records[pr_id][\"qt\"] = qtt\n",
    "            \n",
    "            js = json.dumps(records) \n",
    "            fp = open(\"Inventory File.json\",\"w\")\n",
    "            fp.write(js) # Updating the INVENTORY after Modification\n",
    "            fp.close()\n",
    "            print(\"Quantity UPDATED !\")\n",
    "    \n",
    "        case 2:\n",
    "            pr_id = str(input(\"\\nEnter Product Id:\"))\n",
    "            prc = int(input(\"Enter Price:\"))\n",
    "            records[pr_id][\"price\"] = prc\n",
    "            \n",
    "            js = json.dumps(records)\n",
    "            fp = open(\"Inventory File.json\",\"w\")\n",
    "            fp.write(js) # Updating the INVENTORY after Modification\n",
    "            fp.close()\n",
    "            print(\"Price UPDATED !\")\n",
    "            \n",
    "        case 3:\n",
    "            pr_id = str(input(\"Enter new Product ID:\"))\n",
    "            count = 0\n",
    "            for i in records.keys():\n",
    "                if(pr_id == i):\n",
    "                    count = 1\n",
    "            if(count == 0):\n",
    "                pr_name = input(\"Enter new Product name:\")\n",
    "                pr_price = int(input(\"Enter new Product Price:\"))\n",
    "                pr_qt = int(input(\"Enter new Product Qt:\"))\n",
    "            \n",
    "                records[pr_id]={\"name\":pr_name,\"price\":pr_price,\"qt\":pr_qt}\n",
    "                \n",
    "                js = json.dumps(records)\n",
    "                \n",
    "                fp = open(\"Inventory File.json\",\"w\")\n",
    "                fp.write(js) # Updating the INVENTORY after Modification\n",
    "                fp.close()\n",
    "                print(\"\\nNew Product Added !\")\n",
    "            else:\n",
    "                print(\"\\nThe Key already exist in the Inventory !\\nPlease restart the menu and enter new unique key !\")\n",
    "                \n",
    "        case 4:\n",
    "            pr_id = str(input(\"\\nEnter Product Id to REMOVE the Product from Inventory:\"))\n",
    "            del records[pr_id]\n",
    "            \n",
    "            js = json.dumps(records)\n",
    "            fp = open(\"Inventory File.json\",\"w\")\n",
    "            fp.write(js) # Updating the INVENTORY after Modification\n",
    "            fp.close()\n",
    "            print(\"Product REMOVED Successfully !\")\n",
    "\n",
    "\n",
    "# above I have created a function that performs modifications in the Inventory when called "
   ]
  },
  {
   "cell_type": "code",
   "execution_count": 4,
   "id": "a513d1b7",
   "metadata": {},
   "outputs": [
    {
     "name": "stdout",
     "output_type": "stream",
     "text": [
      "--------CURRENT MENU-----------\n",
      "\n",
      "1 : 5 star     | 10    | 200\n",
      "2 : eclairs     | 15    | 250\n",
      "3 : milkbar     | 10    | 20\n",
      "\n",
      "------Options:------\n",
      "\n",
      "1.Modify Qt\n",
      "2.Change Price\n",
      "3.Add New Product**\n",
      "4.Delete a Product\n",
      "\n",
      "Enter your Choice:\n",
      "1\n",
      "\n",
      "Enter Product Id:1\n",
      "Enter Qt:400\n",
      "Quantity UPDATED !\n",
      "\n",
      "--------MENU after UPDATE-----------\n",
      "\n",
      "1 : 5 star     | 10    | 400\n",
      "2 : eclairs     | 15    | 250\n",
      "3 : milkbar     | 10    | 20\n"
     ]
    }
   ],
   "source": [
    "current_menu()\n",
    "    \n",
    "inventory_modify() # this time we will modify Product 1 quantity to 400 from 200\n",
    "\n",
    "# Function to Display Updated Menu\n",
    "def updated_menu():\n",
    "    print(\"\\n--------MENU after UPDATE-----------\\n\")\n",
    "    for key in records.keys():\n",
    "    print(key,\":\",records[key][\"name\"],\"    |\",records[key][\"price\"],\"   |\",records[key][\"qt\"]) # Products Displayed\n",
    "    \n",
    "updated_menu()"
   ]
  },
  {
   "cell_type": "code",
   "execution_count": 5,
   "id": "3d3c2bcd",
   "metadata": {},
   "outputs": [
    {
     "name": "stdout",
     "output_type": "stream",
     "text": [
      "--------CURRENT MENU-----------\n",
      "\n",
      "1 : 5 star     | 10    | 400\n",
      "2 : eclairs     | 15    | 250\n",
      "3 : milkbar     | 10    | 20\n",
      "\n",
      "------Options:------\n",
      "\n",
      "1.Modify Qt\n",
      "2.Change Price\n",
      "3.Add New Product**\n",
      "4.Delete a Product\n",
      "\n",
      "Enter your Choice:\n",
      "2\n",
      "\n",
      "Enter Product Id:2\n",
      "Enter Price:20\n",
      "Price UPDATED !\n",
      "\n",
      "--------MENU after UPDATE-----------\n",
      "\n",
      "1 : 5 star     | 10    | 400\n",
      "2 : eclairs     | 20    | 250\n",
      "3 : milkbar     | 10    | 20\n"
     ]
    }
   ],
   "source": [
    "current_menu()\n",
    "    \n",
    "inventory_modify() # this time we will modify Product 2 price to 20 from 15\n",
    "\n",
    "updated_menu()"
   ]
  },
  {
   "cell_type": "code",
   "execution_count": 6,
   "id": "25365116",
   "metadata": {},
   "outputs": [
    {
     "name": "stdout",
     "output_type": "stream",
     "text": [
      "--------CURRENT MENU-----------\n",
      "\n",
      "1 : 5 star     | 10    | 400\n",
      "2 : eclairs     | 20    | 250\n",
      "3 : milkbar     | 10    | 20\n",
      "\n",
      "------Options:------\n",
      "\n",
      "1.Modify Qt\n",
      "2.Change Price\n",
      "3.Add New Product**\n",
      "4.Delete a Product\n",
      "\n",
      "Enter your Choice:\n",
      "3\n",
      "Enter new Product ID:4\n",
      "Enter new Product name:soda\n",
      "Enter new Product Price:20\n",
      "Enter new Product Qt:200\n",
      "\n",
      "New Product Added !\n",
      "\n",
      "--------MENU after UPDATE-----------\n",
      "\n",
      "1 : 5 star     | 10    | 400\n",
      "2 : eclairs     | 20    | 250\n",
      "3 : milkbar     | 10    | 20\n",
      "4 : soda     | 20    | 200\n"
     ]
    }
   ],
   "source": [
    "current_menu()\n",
    "    \n",
    "inventory_modify() # this time we will ADD new Product \"soda\" to the Inventory\n",
    "\n",
    "updated_menu()"
   ]
  },
  {
   "cell_type": "code",
   "execution_count": 7,
   "id": "cf68609d",
   "metadata": {},
   "outputs": [
    {
     "name": "stdout",
     "output_type": "stream",
     "text": [
      "--------CURRENT MENU-----------\n",
      "\n",
      "1 : 5 star     | 10    | 400\n",
      "2 : eclairs     | 20    | 250\n",
      "3 : milkbar     | 10    | 20\n",
      "4 : soda     | 20    | 200\n",
      "\n",
      "------Options:------\n",
      "\n",
      "1.Modify Qt\n",
      "2.Change Price\n",
      "3.Add New Product**\n",
      "4.Delete a Product\n",
      "\n",
      "Enter your Choice:\n",
      "4\n",
      "\n",
      "Enter Product Id to REMOVE the Product from Inventory:4\n",
      "Product REMOVED Successfully !\n",
      "\n",
      "--------MENU after UPDATE-----------\n",
      "\n",
      "1 : 5 star     | 10    | 400\n",
      "2 : eclairs     | 20    | 250\n",
      "3 : milkbar     | 10    | 20\n"
     ]
    }
   ],
   "source": [
    "current_menu()\n",
    "    \n",
    "inventory_modify() # this time we will REMOVE the newly added Product \"soda\" from the Inventory\n",
    "\n",
    "updated_menu()"
   ]
  },
  {
   "cell_type": "markdown",
   "id": "960ec38c",
   "metadata": {},
   "source": [
    "## All the functionalities for the Admin side has been demonstrated above, THANK YOU !"
   ]
  },
  {
   "cell_type": "code",
   "execution_count": null,
   "id": "3b681643",
   "metadata": {},
   "outputs": [],
   "source": []
  }
 ],
 "metadata": {
  "kernelspec": {
   "display_name": "Python 3 (ipykernel)",
   "language": "python",
   "name": "python3"
  },
  "language_info": {
   "codemirror_mode": {
    "name": "ipython",
    "version": 3
   },
   "file_extension": ".py",
   "mimetype": "text/x-python",
   "name": "python",
   "nbconvert_exporter": "python",
   "pygments_lexer": "ipython3",
   "version": "3.10.9"
  }
 },
 "nbformat": 4,
 "nbformat_minor": 5
}
